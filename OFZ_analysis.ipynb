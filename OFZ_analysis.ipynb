{
  "nbformat": 4,
  "nbformat_minor": 0,
  "metadata": {
    "colab": {
      "name": "Untitled1.ipynb",
      "provenance": [],
      "collapsed_sections": []
    },
    "kernelspec": {
      "name": "python3",
      "display_name": "Python 3"
    }
  },
  "cells": [
    {
      "cell_type": "code",
      "metadata": {
        "id": "2b47r67a-3SL",
        "colab_type": "code",
        "outputId": "74d40d11-f8b1-4419-9e25-5b99bb325953",
        "colab": {
          "base_uri": "https://localhost:8080/",
          "height": 170
        }
      },
      "source": [
        "!git clone -l -s git://github.com/Anna-Pon/Model-Risk cloned-repo\n",
        "%cd cloned-repo\n",
        "!ls"
      ],
      "execution_count": 0,
      "outputs": [
        {
          "output_type": "stream",
          "text": [
            "Cloning into 'cloned-repo'...\n",
            "warning: --local is ignored\n",
            "remote: Enumerating objects: 6, done.\u001b[K\n",
            "remote: Counting objects: 100% (6/6), done.\u001b[K\n",
            "remote: Compressing objects: 100% (4/4), done.\u001b[K\n",
            "remote: Total 6 (delta 0), reused 0 (delta 0), pack-reused 0\u001b[K\n",
            "Receiving objects: 100% (6/6), 957.41 KiB | 1.03 MiB/s, done.\n",
            "/content/cloned-repo/cloned-repo/cloned-repo/cloned-repo\n",
            "ofz.xlsx  README.md\n"
          ],
          "name": "stdout"
        }
      ]
    },
    {
      "cell_type": "code",
      "metadata": {
        "id": "DTLVqls5CCED",
        "colab_type": "code",
        "outputId": "001070a4-5e00-4ee3-a302-0231d44f48bd",
        "colab": {
          "base_uri": "https://localhost:8080/",
          "height": 34
        }
      },
      "source": [
        "!ls"
      ],
      "execution_count": 0,
      "outputs": [
        {
          "output_type": "stream",
          "text": [
            "ofz.xlsx  README.md\n"
          ],
          "name": "stdout"
        }
      ]
    },
    {
      "cell_type": "code",
      "metadata": {
        "id": "Ez5vkpSHCE8M",
        "colab_type": "code",
        "colab": {}
      },
      "source": [
        "import numpy as np\n",
        "import pandas as pd"
      ],
      "execution_count": 0,
      "outputs": []
    },
    {
      "cell_type": "code",
      "metadata": {
        "id": "kpUcoXurCPZ4",
        "colab_type": "code",
        "colab": {}
      },
      "source": [
        "file_ofz = pd.read_excel('/content/cloned-repo/ofz.xlsx', sheet_name = '26206')"
      ],
      "execution_count": 0,
      "outputs": []
    },
    {
      "cell_type": "code",
      "metadata": {
        "id": "UTzU7TFJCpBN",
        "colab_type": "code",
        "outputId": "4dd39515-461e-443e-b6dd-e80c22dfe108",
        "colab": {
          "base_uri": "https://localhost:8080/",
          "height": 419
        }
      },
      "source": [
        "file_ofz"
      ],
      "execution_count": 0,
      "outputs": [
        {
          "output_type": "execute_result",
          "data": {
            "text/html": [
              "<div>\n",
              "<style scoped>\n",
              "    .dataframe tbody tr th:only-of-type {\n",
              "        vertical-align: middle;\n",
              "    }\n",
              "\n",
              "    .dataframe tbody tr th {\n",
              "        vertical-align: top;\n",
              "    }\n",
              "\n",
              "    .dataframe thead th {\n",
              "        text-align: right;\n",
              "    }\n",
              "</style>\n",
              "<table border=\"1\" class=\"dataframe\">\n",
              "  <thead>\n",
              "    <tr style=\"text-align: right;\">\n",
              "      <th></th>\n",
              "      <th>&lt;TICKER&gt;</th>\n",
              "      <th>&lt;PER&gt;</th>\n",
              "      <th>&lt;DATE&gt;</th>\n",
              "      <th>&lt;TIME&gt;</th>\n",
              "      <th>&lt;OPEN&gt;</th>\n",
              "      <th>&lt;HIGH&gt;</th>\n",
              "      <th>&lt;LOW&gt;</th>\n",
              "      <th>&lt;CLOSE&gt;</th>\n",
              "      <th>&lt;VOL&gt;</th>\n",
              "    </tr>\n",
              "  </thead>\n",
              "  <tbody>\n",
              "    <tr>\n",
              "      <th>0</th>\n",
              "      <td>SU26206RMFS1</td>\n",
              "      <td>D</td>\n",
              "      <td>2012-02-13</td>\n",
              "      <td>0</td>\n",
              "      <td>100.070</td>\n",
              "      <td>100.070</td>\n",
              "      <td>100.070</td>\n",
              "      <td>100.070</td>\n",
              "      <td>26000</td>\n",
              "    </tr>\n",
              "    <tr>\n",
              "      <th>1</th>\n",
              "      <td>SU26206RMFS1</td>\n",
              "      <td>D</td>\n",
              "      <td>2012-02-14</td>\n",
              "      <td>0</td>\n",
              "      <td>100.500</td>\n",
              "      <td>100.500</td>\n",
              "      <td>100.150</td>\n",
              "      <td>100.150</td>\n",
              "      <td>20001</td>\n",
              "    </tr>\n",
              "    <tr>\n",
              "      <th>2</th>\n",
              "      <td>SU26206RMFS1</td>\n",
              "      <td>D</td>\n",
              "      <td>2012-02-15</td>\n",
              "      <td>0</td>\n",
              "      <td>100.200</td>\n",
              "      <td>100.250</td>\n",
              "      <td>100.200</td>\n",
              "      <td>100.250</td>\n",
              "      <td>20001</td>\n",
              "    </tr>\n",
              "    <tr>\n",
              "      <th>3</th>\n",
              "      <td>SU26206RMFS1</td>\n",
              "      <td>D</td>\n",
              "      <td>2012-02-21</td>\n",
              "      <td>0</td>\n",
              "      <td>100.050</td>\n",
              "      <td>100.050</td>\n",
              "      <td>100.050</td>\n",
              "      <td>100.050</td>\n",
              "      <td>1</td>\n",
              "    </tr>\n",
              "    <tr>\n",
              "      <th>4</th>\n",
              "      <td>SU26206RMFS1</td>\n",
              "      <td>D</td>\n",
              "      <td>2012-02-24</td>\n",
              "      <td>0</td>\n",
              "      <td>100.070</td>\n",
              "      <td>100.070</td>\n",
              "      <td>100.070</td>\n",
              "      <td>100.070</td>\n",
              "      <td>80000</td>\n",
              "    </tr>\n",
              "    <tr>\n",
              "      <th>...</th>\n",
              "      <td>...</td>\n",
              "      <td>...</td>\n",
              "      <td>...</td>\n",
              "      <td>...</td>\n",
              "      <td>...</td>\n",
              "      <td>...</td>\n",
              "      <td>...</td>\n",
              "      <td>...</td>\n",
              "      <td>...</td>\n",
              "    </tr>\n",
              "    <tr>\n",
              "      <th>1302</th>\n",
              "      <td>SU26206RMFS1</td>\n",
              "      <td>D</td>\n",
              "      <td>2017-06-05</td>\n",
              "      <td>0</td>\n",
              "      <td>99.940</td>\n",
              "      <td>99.967</td>\n",
              "      <td>99.940</td>\n",
              "      <td>99.957</td>\n",
              "      <td>616856</td>\n",
              "    </tr>\n",
              "    <tr>\n",
              "      <th>1303</th>\n",
              "      <td>SU26206RMFS1</td>\n",
              "      <td>D</td>\n",
              "      <td>2017-06-06</td>\n",
              "      <td>0</td>\n",
              "      <td>99.956</td>\n",
              "      <td>99.964</td>\n",
              "      <td>99.956</td>\n",
              "      <td>99.960</td>\n",
              "      <td>496292</td>\n",
              "    </tr>\n",
              "    <tr>\n",
              "      <th>1304</th>\n",
              "      <td>SU26206RMFS1</td>\n",
              "      <td>D</td>\n",
              "      <td>2017-06-07</td>\n",
              "      <td>0</td>\n",
              "      <td>99.960</td>\n",
              "      <td>99.967</td>\n",
              "      <td>99.960</td>\n",
              "      <td>99.965</td>\n",
              "      <td>923417</td>\n",
              "    </tr>\n",
              "    <tr>\n",
              "      <th>1305</th>\n",
              "      <td>SU26206RMFS1</td>\n",
              "      <td>D</td>\n",
              "      <td>2017-06-08</td>\n",
              "      <td>0</td>\n",
              "      <td>99.968</td>\n",
              "      <td>99.971</td>\n",
              "      <td>99.968</td>\n",
              "      <td>99.971</td>\n",
              "      <td>297646</td>\n",
              "    </tr>\n",
              "    <tr>\n",
              "      <th>1306</th>\n",
              "      <td>SU26206RMFS1</td>\n",
              "      <td>D</td>\n",
              "      <td>2017-06-09</td>\n",
              "      <td>0</td>\n",
              "      <td>99.975</td>\n",
              "      <td>99.999</td>\n",
              "      <td>99.975</td>\n",
              "      <td>99.994</td>\n",
              "      <td>980478</td>\n",
              "    </tr>\n",
              "  </tbody>\n",
              "</table>\n",
              "<p>1307 rows × 9 columns</p>\n",
              "</div>"
            ],
            "text/plain": [
              "          <TICKER> <PER>     <DATE>  <TIME>  ...   <HIGH>    <LOW>  <CLOSE>   <VOL>\n",
              "0     SU26206RMFS1     D 2012-02-13       0  ...  100.070  100.070  100.070   26000\n",
              "1     SU26206RMFS1     D 2012-02-14       0  ...  100.500  100.150  100.150   20001\n",
              "2     SU26206RMFS1     D 2012-02-15       0  ...  100.250  100.200  100.250   20001\n",
              "3     SU26206RMFS1     D 2012-02-21       0  ...  100.050  100.050  100.050       1\n",
              "4     SU26206RMFS1     D 2012-02-24       0  ...  100.070  100.070  100.070   80000\n",
              "...            ...   ...        ...     ...  ...      ...      ...      ...     ...\n",
              "1302  SU26206RMFS1     D 2017-06-05       0  ...   99.967   99.940   99.957  616856\n",
              "1303  SU26206RMFS1     D 2017-06-06       0  ...   99.964   99.956   99.960  496292\n",
              "1304  SU26206RMFS1     D 2017-06-07       0  ...   99.967   99.960   99.965  923417\n",
              "1305  SU26206RMFS1     D 2017-06-08       0  ...   99.971   99.968   99.971  297646\n",
              "1306  SU26206RMFS1     D 2017-06-09       0  ...   99.999   99.975   99.994  980478\n",
              "\n",
              "[1307 rows x 9 columns]"
            ]
          },
          "metadata": {
            "tags": []
          },
          "execution_count": 26
        }
      ]
    },
    {
      "cell_type": "code",
      "metadata": {
        "id": "ATAjFbf5CqTP",
        "colab_type": "code",
        "outputId": "a806ebe7-52c4-4e24-f201-fbbc898b2188",
        "colab": {
          "base_uri": "https://localhost:8080/",
          "height": 68
        }
      },
      "source": [
        "file_ofz.columns"
      ],
      "execution_count": 0,
      "outputs": [
        {
          "output_type": "execute_result",
          "data": {
            "text/plain": [
              "Index(['<TICKER>', '<PER>', '<DATE>', '<TIME>', '<OPEN>', '<HIGH>', '<LOW>',\n",
              "       '<CLOSE>', '<VOL>'],\n",
              "      dtype='object')"
            ]
          },
          "metadata": {
            "tags": []
          },
          "execution_count": 27
        }
      ]
    }
  ]
}